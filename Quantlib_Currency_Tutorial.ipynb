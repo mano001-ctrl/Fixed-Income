{
 "cells": [
  {
   "cell_type": "markdown",
   "id": "e9eb1789",
   "metadata": {},
   "source": [
    "\n",
    "## Understanding Currencies in QuantLib\n",
    "\n",
    "QuantLib provides a comprehensive library to handle various global currencies. Each currency is defined with its ISO code, symbol, and conversion properties. QuantLib supports a wide range of currencies, including major and minor currencies.\n",
    "    "
   ]
  },
  {
   "cell_type": "code",
   "execution_count": 1,
   "id": "56b571f3",
   "metadata": {},
   "outputs": [],
   "source": [
    "\n",
    "# Import the necessary modules from QuantLib\n",
    "from QuantLib import *\n",
    "    "
   ]
  },
  {
   "cell_type": "markdown",
   "id": "cc99b987",
   "metadata": {},
   "source": [
    "\n",
    "### Example 1: Currency Details\n",
    "\n",
    "In QuantLib, currencies such as the USD and EUR can be accessed directly. Each currency has properties like name, symbol, and ISO code, which can be retrieved as shown below.\n",
    "    "
   ]
  },
  {
   "cell_type": "code",
   "execution_count": 2,
   "id": "c6f36436",
   "metadata": {},
   "outputs": [
    {
     "data": {
      "text/plain": [
       "(('U.S. dollar', '$', 'USD'), ('European Euro', '', 'EUR'))"
      ]
     },
     "execution_count": 2,
     "metadata": {},
     "output_type": "execute_result"
    }
   ],
   "source": [
    "\n",
    "# Example 1: Defining a Currency\n",
    "usd = USDCurrency()  # Define the USD currency\n",
    "eur = EURCurrency()  # Define the EUR currency\n",
    "\n",
    "# Displaying currency details\n",
    "usd_details = (usd.name(), usd.symbol(), usd.code())\n",
    "eur_details = (eur.name(), eur.symbol(), eur.code())\n",
    "\n",
    "usd_details, eur_details\n",
    "    "
   ]
  },
  {
   "cell_type": "markdown",
   "id": "1ff1a25f",
   "metadata": {},
   "source": [
    "\n",
    "### Example 2: Simple Currency Conversion\n",
    "\n",
    "Currency conversions in QuantLib can be managed through external exchange rates. In this example, we manually define an exchange rate of 1 USD = 0.85 EUR for illustration purposes.\n",
    "    "
   ]
  },
  {
   "cell_type": "code",
   "execution_count": 3,
   "id": "f044d9bd",
   "metadata": {},
   "outputs": [
    {
     "data": {
      "text/plain": [
       "85.0"
      ]
     },
     "execution_count": 3,
     "metadata": {},
     "output_type": "execute_result"
    }
   ],
   "source": [
    "\n",
    "# Example 2: Currency Conversions with Exchange Rates\n",
    "usd_amount = 100  # 100 USD\n",
    "exchange_rate = 0.85  # 1 USD = 0.85 EUR (for illustration)\n",
    "\n",
    "# Calculate EUR equivalent\n",
    "eur_amount = usd_amount * exchange_rate\n",
    "eur_amount\n",
    "    "
   ]
  },
  {
   "cell_type": "markdown",
   "id": "de88d25d",
   "metadata": {},
   "source": [
    "\n",
    "### Example 3: Currency Triangulation\n",
    "\n",
    "For some currency pairs, an intermediary currency (often USD) is required for conversion. QuantLib can use triangulation in real-world conversions, allowing smoother transactions between currencies.\n",
    "    "
   ]
  },
  {
   "cell_type": "code",
   "execution_count": 4,
   "id": "38ab88d4",
   "metadata": {},
   "outputs": [
    {
     "data": {
      "text/plain": [
       "('Japanese yen', '\\udca5', 'JPY')"
      ]
     },
     "execution_count": 4,
     "metadata": {},
     "output_type": "execute_result"
    }
   ],
   "source": [
    "\n",
    "# Example 3: Using Currency Triangulation (for currencies that need an intermediary currency)\n",
    "jpy = JPYCurrency()  # Japanese Yen\n",
    "\n",
    "# Display Japanese Yen details\n",
    "jpy_details = (jpy.name(), jpy.symbol(), jpy.code())\n",
    "jpy_details\n",
    "    "
   ]
  },
  {
   "cell_type": "markdown",
   "id": "29891a0e",
   "metadata": {},
   "source": [
    "\n",
    "### Example 4: Iterating Over Major Currencies\n",
    "\n",
    "QuantLib provides predefined classes for major and minor global currencies, making it easy to use them in calculations. This example shows how you can iterate over a list of currencies to access their attributes.\n",
    "    "
   ]
  },
  {
   "cell_type": "code",
   "execution_count": 5,
   "id": "6dae464d",
   "metadata": {},
   "outputs": [
    {
     "data": {
      "text/plain": [
       "[('U.S. dollar', 'USD', '$'),\n",
       " ('European Euro', 'EUR', ''),\n",
       " ('British pound sterling', 'GBP', '\\udca3'),\n",
       " ('Japanese yen', 'JPY', '\\udca5'),\n",
       " ('Swiss franc', 'CHF', 'SwF')]"
      ]
     },
     "execution_count": 5,
     "metadata": {},
     "output_type": "execute_result"
    }
   ],
   "source": [
    "\n",
    "# Example 4: Working with Currency Lists and Iterating over Them\n",
    "major_currencies = [USDCurrency(), EURCurrency(), GBPCurrency(), JPYCurrency(), CHFCurrency()]\n",
    "\n",
    "# Listing major currencies\n",
    "currency_details = [(currency.name(), currency.code(), currency.symbol()) for currency in major_currencies]\n",
    "currency_details\n",
    "    "
   ]
  },
  {
   "cell_type": "markdown",
   "id": "a528a95a",
   "metadata": {},
   "source": [
    "\n",
    "### Summary\n",
    "\n",
    "QuantLib's currency module offers robust support for global currencies. You can define, retrieve details, convert between currencies, and even handle complex triangulation scenarios. This notebook covered the basics of handling currencies in QuantLib, illustrating how to access currency data and perform simple conversions.\n",
    "    "
   ]
  }
 ],
 "metadata": {
  "kernelspec": {
   "display_name": "Python 3 (ipykernel)",
   "language": "python",
   "name": "python3"
  },
  "language_info": {
   "codemirror_mode": {
    "name": "ipython",
    "version": 3
   },
   "file_extension": ".py",
   "mimetype": "text/x-python",
   "name": "python",
   "nbconvert_exporter": "python",
   "pygments_lexer": "ipython3",
   "version": "3.12.7"
  }
 },
 "nbformat": 4,
 "nbformat_minor": 5
}
