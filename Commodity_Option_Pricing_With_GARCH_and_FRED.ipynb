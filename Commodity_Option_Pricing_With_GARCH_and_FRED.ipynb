{
 "cells": [
  {
   "cell_type": "markdown",
   "id": "47fd23e3",
   "metadata": {},
   "source": [
    "# Option Pricing for Commodities Using GARCH Volatility and FRED Data\n",
    "This code calculates option prices and Greeks for various commodities (like gold, silver, and crude oil) using market data from Yahoo Finance, GARCH-based volatility, and risk-free rates from FRED."
   ]
  },
  {
   "cell_type": "code",
   "execution_count": null,
   "id": "78c7a3ba",
   "metadata": {},
   "outputs": [],
   "source": [
    "import QuantLib as ql\n",
    "import yfinance as yf\n",
    "import numpy as np\n",
    "from fredapi import Fred\n",
    "from arch import arch_model  # Import GARCH model from arch package"
   ]
  },
  {
   "cell_type": "markdown",
   "id": "3f12f954",
   "metadata": {},
   "source": [
    "### Initialize FRED API\n",
    "Replace with your FRED API key"
   ]
  },
  {
   "cell_type": "code",
   "execution_count": null,
   "id": "69967a41",
   "metadata": {},
   "outputs": [],
   "source": [
    "fred = Fred(api_key='c4bd69f7cda680b4ae018d6c2273f268')"
   ]
  },
  {
   "cell_type": "markdown",
   "id": "88379807",
   "metadata": {},
   "source": [
    "## Function to Fetch Risk-Free Rate from FRED\n",
    "This function retrieves the latest 10-year Treasury rate as the risk-free rate for option pricing."
   ]
  },
  {
   "cell_type": "code",
   "execution_count": null,
   "id": "5723af69",
   "metadata": {},
   "outputs": [],
   "source": [
    "def get_risk_free_rate():\n",
    "    treasury_rate = fred.get_series('DGS10')  # 10-Year Treasury Constant Maturity Rate\n",
    "    return treasury_rate[-1] / 100  # Convert from percent to decimal"
   ]
  },
  {
   "cell_type": "markdown",
   "id": "353a4344",
   "metadata": {},
   "source": [
    "## GARCH Volatility Calculation\n",
    "This function uses a GARCH(1,1) model to estimate the volatility of returns for use in option pricing."
   ]
  },
  {
   "cell_type": "code",
   "execution_count": null,
   "id": "a7b2dbcf",
   "metadata": {},
   "outputs": [],
   "source": [
    "def calculate_garch_volatility(returns):\n",
    "    model = arch_model(returns, vol='Garch', p=1, q=1)\n",
    "    model_fit = model.fit(disp='off')\n",
    "    forecast = model_fit.forecast(horizon=1)\n",
    "    garch_volatility = np.sqrt(forecast.variance.values[-1, :][0])\n",
    "    return garch_volatility"
   ]
  },
  {
   "cell_type": "markdown",
   "id": "01a9ffb6",
   "metadata": {},
   "source": [
    "## Option Pricing Function\n",
    "This function prices European-style options based on inputs such as the spot price, strike price, and GARCH volatility for a specified asset."
   ]
  },
  {
   "cell_type": "code",
   "execution_count": null,
   "id": "b58fdde2",
   "metadata": {},
   "outputs": [],
   "source": [
    "def price_option(ticker, option_type=ql.Option.Call, strike_price=100, expiry_date=ql.Date(27, 12, 2024), \n",
    "                 dividend_rate=0.0):\n",
    "\n",
    "    data = yf.Ticker(ticker)\n",
    "    hist_data = data.history(period='1y')\n",
    "    spot_price = hist_data['Close'][-1]\n",
    "    log_returns = np.log(hist_data['Close'] / hist_data['Close'].shift(1)).dropna()\n",
    "    garch_volatility = calculate_garch_volatility(log_returns) * np.sqrt(252)\n",
    "    risk_free_rate = get_risk_free_rate()\n",
    "\n",
    "    today = ql.Date().todaysDate()\n",
    "    ql.Settings.instance().evaluationDate = today\n",
    "\n",
    "    payoff = ql.PlainVanillaPayoff(option_type, strike_price)\n",
    "    exercise = ql.EuropeanExercise(expiry_date)\n",
    "    european_option = ql.VanillaOption(payoff, exercise)\n",
    "\n",
    "    spot_handle = ql.QuoteHandle(ql.SimpleQuote(spot_price))\n",
    "    rate_handle = ql.YieldTermStructureHandle(ql.FlatForward(today, risk_free_rate, ql.Actual365Fixed()))\n",
    "    dividend_handle = ql.YieldTermStructureHandle(ql.FlatForward(today, dividend_rate, ql.Actual365Fixed()))\n",
    "    volatility_handle = ql.BlackVolTermStructureHandle(ql.BlackConstantVol(today, ql.NullCalendar(), garch_volatility, ql.Actual365Fixed()))\n",
    "\n",
    "    bsm_process = ql.BlackScholesMertonProcess(spot_handle, dividend_handle, rate_handle, volatility_handle)\n",
    "    engine = ql.AnalyticEuropeanEngine(bsm_process)\n",
    "    european_option.setPricingEngine(engine)\n",
    "\n",
    "    option_price = european_option.NPV()\n",
    "    delta = european_option.delta()\n",
    "    gamma = european_option.gamma()\n",
    "    vega = european_option.vega()\n",
    "    theta = european_option.theta()\n",
    "    rho = european_option.rho()\n",
    "\n",
    "    print(f'\\nOption Pricing for {ticker}')\n",
    "    print(f'Spot Price: {spot_price:.2f}')\n",
    "    print(f'GARCH Volatility: {garch_volatility:.4f}')\n",
    "    print(f'Risk-Free Rate (from FRED): {risk_free_rate:.4f}')\n",
    "    print(f'Option Price: {option_price:.2f}')\n",
    "    print(f'Delta: {delta:.4f}')\n",
    "    print(f'Gamma: {gamma:.4f}')\n",
    "    print(f'Vega: {vega:.4f}')\n",
    "    print(f'Theta: {theta:.4f}')\n",
    "    print(f'Rho: {rho:.4f}')"
   ]
  },
  {
   "cell_type": "markdown",
   "id": "128d296b",
   "metadata": {},
   "source": [
    "## Example Usage for Commodities and Precious Metals\n",
    "We can calculate the option price and Greeks for various commodities such as gold, silver, and crude oil."
   ]
  },
  {
   "cell_type": "code",
   "execution_count": null,
   "id": "cbe546e9",
   "metadata": {},
   "outputs": [],
   "source": [
    "tickers = ['GC=F', 'SI=F', 'CL=F']  # Gold, Silver, Crude Oil futures tickers on Yahoo Finance\n",
    "\n",
    "for ticker in tickers:\n",
    "    price_option(ticker, strike_price=100, expiry_date=ql.Date(27, 12, 2024))"
   ]
  }
 ],
 "metadata": {},
 "nbformat": 4,
 "nbformat_minor": 5
}
