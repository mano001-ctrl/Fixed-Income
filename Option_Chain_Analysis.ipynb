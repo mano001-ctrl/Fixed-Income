{
 "cells": [
  {
   "cell_type": "markdown",
   "id": "487e6b03",
   "metadata": {},
   "source": [
    "## Option Chain Analysis for AAPL Stock\n",
    "In this notebook, we analyze the option chain for Apple Inc. (ticker symbol: AAPL) using the `yfinance` library to fetch data and `matplotlib` to visualize it.\n",
    "\n",
    "---"
   ]
  },
  {
   "cell_type": "markdown",
   "id": "73456733",
   "metadata": {},
   "source": [
    "### Import Required Libraries\n",
    "We'll start by importing the necessary libraries: `yfinance` for fetching financial data, `pandas` for data manipulation, and `matplotlib` for visualization."
   ]
  },
  {
   "cell_type": "code",
   "execution_count": 1,
   "id": "ee2f3889",
   "metadata": {},
   "outputs": [],
   "source": [
    "import yfinance as yf\n",
    "import pandas as pd\n",
    "import matplotlib.pyplot as plt"
   ]
  },
  {
   "cell_type": "markdown",
   "id": "79acca26",
   "metadata": {},
   "source": [
    "### Set Ticker Symbol\n",
    "Define the ticker symbol for the stock you want to analyze options for (in this case, 'AAPL' for Apple Inc.)."
   ]
  },
  {
   "cell_type": "code",
   "execution_count": 2,
   "id": "8e715824",
   "metadata": {},
   "outputs": [],
   "source": [
    "ticker_symbol = 'AAPL'"
   ]
  },
  {
   "cell_type": "markdown",
   "id": "1bc813bc",
   "metadata": {},
   "source": [
    "### Fetch Ticker Data\n",
    "Fetch the stock data using yfinance's Ticker method."
   ]
  },
  {
   "cell_type": "code",
   "execution_count": 3,
   "id": "94e4af08",
   "metadata": {},
   "outputs": [],
   "source": [
    "ticker = yf.Ticker(ticker_symbol)"
   ]
  },
  {
   "cell_type": "markdown",
   "id": "2d5a9a9a",
   "metadata": {},
   "source": [
    "### Get Expiration Dates for Options\n",
    "Obtain all available expiration dates for the options of the specified ticker."
   ]
  },
  {
   "cell_type": "code",
   "execution_count": 4,
   "id": "d5c9c885",
   "metadata": {},
   "outputs": [],
   "source": [
    "expiration_dates = ticker.options"
   ]
  },
  {
   "cell_type": "markdown",
   "id": "fd52a218",
   "metadata": {},
   "source": [
    "### Initialize an Empty DataFrame for the Option Chain\n",
    "Create an empty DataFrame to store the options data across all expiration dates."
   ]
  },
  {
   "cell_type": "code",
   "execution_count": 5,
   "id": "4230d7a7",
   "metadata": {},
   "outputs": [],
   "source": [
    "option_chain = pd.DataFrame()"
   ]
  },
  {
   "cell_type": "markdown",
   "id": "28e9aa0c",
   "metadata": {},
   "source": [
    "### Loop Through Expiration Dates to Collect Option Data\n",
    "For each expiration date, fetch the option chain data and add relevant details."
   ]
  },
  {
   "cell_type": "code",
   "execution_count": 6,
   "id": "9164ce6b",
   "metadata": {},
   "outputs": [],
   "source": [
    "for expiry in expiration_dates:\n",
    "    options = ticker.option_chain(expiry)\n",
    "    calls = options.calls\n",
    "    calls['Type'] = 'Call'\n",
    "    calls['Expiration Date'] = expiry\n",
    "    puts = options.puts\n",
    "    puts['Type'] = 'Put'\n",
    "    puts['Expiration Date'] = expiry\n",
    "    option_chain = pd.concat([option_chain, calls, puts], ignore_index=True)"
   ]
  },
  {
   "cell_type": "markdown",
   "id": "9c6d2484",
   "metadata": {},
   "source": [
    "### Reset Index of DataFrame\n",
    "Reset the index of the DataFrame for cleaner presentation of data."
   ]
  },
  {
   "cell_type": "code",
   "execution_count": 7,
   "id": "b936cbd6",
   "metadata": {},
   "outputs": [],
   "source": [
    "option_chain.reset_index(drop=True, inplace=True)"
   ]
  },
  {
   "cell_type": "markdown",
   "id": "d7be8f33",
   "metadata": {},
   "source": [
    "### Debugging: Display Initial Option Chain Data\n",
    "Print the first 5 rows of the option chain to confirm data retrieval."
   ]
  },
  {
   "cell_type": "code",
   "execution_count": 8,
   "id": "4e31d542",
   "metadata": {},
   "outputs": [
    {
     "name": "stdout",
     "output_type": "stream",
     "text": [
      "Option Chain Data (First 5 rows):\n",
      "        contractSymbol             lastTradeDate  strike  lastPrice     bid  \\\n",
      "0  AAPL241101C00100000 2024-10-28 13:30:03+00:00   100.0     133.50  134.05   \n",
      "1  AAPL241101C00105000 2024-10-23 17:41:10+00:00   105.0     124.76  128.95   \n",
      "2  AAPL241101C00120000 2024-10-17 14:24:10+00:00   120.0     112.65  113.95   \n",
      "3  AAPL241101C00130000 2024-10-25 15:45:29+00:00   130.0     102.22  104.25   \n",
      "4  AAPL241101C00135000 2024-10-23 18:44:28+00:00   135.0      94.53   99.05   \n",
      "\n",
      "      ask    change  percentChange  volume  openInterest  impliedVolatility  \\\n",
      "0  134.90 -2.889999      -2.118923     2.0             3           3.589845   \n",
      "1  129.65  0.000000       0.000000     1.0             5           3.191408   \n",
      "2  114.65  0.000000       0.000000     NaN            15           2.703128   \n",
      "3  104.80  0.000000       0.000000     3.0             3           2.615238   \n",
      "4   99.95  0.000000       0.000000     NaN             3           2.447270   \n",
      "\n",
      "   inTheMoney contractSize currency  Type Expiration Date  \n",
      "0        True      REGULAR      USD  Call      2024-11-01  \n",
      "1        True      REGULAR      USD  Call      2024-11-01  \n",
      "2        True      REGULAR      USD  Call      2024-11-01  \n",
      "3        True      REGULAR      USD  Call      2024-11-01  \n",
      "4        True      REGULAR      USD  Call      2024-11-01  \n"
     ]
    }
   ],
   "source": [
    "print('Option Chain Data (First 5 rows):')\n",
    "print(option_chain.head())"
   ]
  },
  {
   "cell_type": "markdown",
   "id": "5bd713c1",
   "metadata": {},
   "source": [
    "### Handle Missing Price Data\n",
    "Check for the presence of a 'lastPrice' column. If missing, use 'bid' or 'ask' prices as fallback."
   ]
  },
  {
   "cell_type": "code",
   "execution_count": 9,
   "id": "ade94441",
   "metadata": {},
   "outputs": [],
   "source": [
    "if 'lastPrice' not in option_chain.columns:\n",
    "    if 'bid' in option_chain.columns:\n",
    "        option_chain['lastPrice'] = option_chain['bid']\n",
    "    elif 'ask' in option_chain.columns:\n",
    "        option_chain['lastPrice'] = option_chain['ask']\n",
    "    else:\n",
    "        print('No suitable price column found. Ensure that the option data is available.')\n",
    "        raise ValueError('No price data available')"
   ]
  },
  {
   "cell_type": "markdown",
   "id": "d028d546",
   "metadata": {},
   "source": [
    "### Filter Data: Remove Zero or NaN Values\n",
    "Drop rows where 'strike' or 'lastPrice' are zero or NaN for accurate analysis."
   ]
  },
  {
   "cell_type": "code",
   "execution_count": 10,
   "id": "1534653c",
   "metadata": {},
   "outputs": [],
   "source": [
    "option_chain = option_chain.dropna(subset=['strike', 'lastPrice'])\n",
    "option_chain = option_chain[(option_chain['strike'] > 0) & (option_chain['lastPrice'] > 0)]"
   ]
  },
  {
   "cell_type": "markdown",
   "id": "c01aa885",
   "metadata": {},
   "source": [
    "### Debugging: Display Filtered Option Chain Data\n",
    "Display the first 5 rows of the filtered data to confirm validity."
   ]
  },
  {
   "cell_type": "code",
   "execution_count": 11,
   "id": "344b9a8c",
   "metadata": {},
   "outputs": [
    {
     "name": "stdout",
     "output_type": "stream",
     "text": [
      "\n",
      "Filtered Option Chain Data (First 5 rows):\n",
      "        contractSymbol             lastTradeDate  strike  lastPrice     bid  \\\n",
      "0  AAPL241101C00100000 2024-10-28 13:30:03+00:00   100.0     133.50  134.05   \n",
      "1  AAPL241101C00105000 2024-10-23 17:41:10+00:00   105.0     124.76  128.95   \n",
      "2  AAPL241101C00120000 2024-10-17 14:24:10+00:00   120.0     112.65  113.95   \n",
      "3  AAPL241101C00130000 2024-10-25 15:45:29+00:00   130.0     102.22  104.25   \n",
      "4  AAPL241101C00135000 2024-10-23 18:44:28+00:00   135.0      94.53   99.05   \n",
      "\n",
      "      ask    change  percentChange  volume  openInterest  impliedVolatility  \\\n",
      "0  134.90 -2.889999      -2.118923     2.0             3           3.589845   \n",
      "1  129.65  0.000000       0.000000     1.0             5           3.191408   \n",
      "2  114.65  0.000000       0.000000     NaN            15           2.703128   \n",
      "3  104.80  0.000000       0.000000     3.0             3           2.615238   \n",
      "4   99.95  0.000000       0.000000     NaN             3           2.447270   \n",
      "\n",
      "   inTheMoney contractSize currency  Type Expiration Date  \n",
      "0        True      REGULAR      USD  Call      2024-11-01  \n",
      "1        True      REGULAR      USD  Call      2024-11-01  \n",
      "2        True      REGULAR      USD  Call      2024-11-01  \n",
      "3        True      REGULAR      USD  Call      2024-11-01  \n",
      "4        True      REGULAR      USD  Call      2024-11-01  \n"
     ]
    }
   ],
   "source": [
    "print('\\nFiltered Option Chain Data (First 5 rows):')\n",
    "print(option_chain.head())"
   ]
  },
  {
   "cell_type": "markdown",
   "id": "94fe9aa4",
   "metadata": {},
   "source": [
    "### Set Expiration Date for Visualization\n",
    "Define the expiration date for which to visualize option prices. If it’s not available, use the first date."
   ]
  },
  {
   "cell_type": "code",
   "execution_count": 12,
   "id": "9e7f9a70",
   "metadata": {},
   "outputs": [
    {
     "name": "stdout",
     "output_type": "stream",
     "text": [
      "Specified expiration date 2024-12-27 not available. Using the first available expiration date.\n"
     ]
    }
   ],
   "source": [
    "exp_date = '2024-12-27'\n",
    "if exp_date not in expiration_dates:\n",
    "    print(f'Specified expiration date {exp_date} not available. Using the first available expiration date.')\n",
    "    exp_date = expiration_dates[0]"
   ]
  },
  {
   "cell_type": "markdown",
   "id": "b065e5b9",
   "metadata": {},
   "source": [
    "### Filter Data for the Specified Expiration Date\n",
    "Filter the option chain to only include data for the selected expiration date."
   ]
  },
  {
   "cell_type": "code",
   "execution_count": 13,
   "id": "7e460f68",
   "metadata": {},
   "outputs": [],
   "source": [
    "exp_chain = option_chain[option_chain['Expiration Date'] == exp_date]"
   ]
  },
  {
   "cell_type": "markdown",
   "id": "7ff2a6e3",
   "metadata": {},
   "source": [
    "### Plot Call and Put Prices Against Strike Price\n",
    "Check if data exists for the selected expiration date; if yes, plot the data."
   ]
  },
  {
   "cell_type": "code",
   "execution_count": 14,
   "id": "3b376239",
   "metadata": {},
   "outputs": [
    {
     "data": {
      "image/png": "[encoded data removed]",
      "text/plain": [
       "<Figure size 1200x800 with 1 Axes>"
      ]
     },
     "metadata": {},
     "output_type": "display_data"
    }
   ],
   "source": [
    "if exp_chain.empty:\n",
    "    print(f'No data available for expiration date {exp_date}. Please choose a different date.')\n",
    "else:\n",
    "    plt.figure(figsize=(12, 8))\n",
    "    if not exp_chain[exp_chain['Type'] == 'Call'].empty:\n",
    "        plt.plot(exp_chain[exp_chain['Type'] == 'Call']['strike'], \n",
    "                 exp_chain[exp_chain['Type'] == 'Call']['lastPrice'], \n",
    "                 label='Call Prices', marker='o', linestyle='-', color='blue')\n",
    "    if not exp_chain[exp_chain['Type'] == 'Put'].empty:\n",
    "        plt.plot(exp_chain[exp_chain['Type'] == 'Put']['strike'], \n",
    "                 exp_chain[exp_chain['Type'] == 'Put']['lastPrice'], \n",
    "                 label='Put Prices', marker='o', linestyle='-', color='red')\n",
    "    plt.xlabel('Strike Price')\n",
    "    plt.ylabel('Option Price')\n",
    "    plt.title(f'Option Chain for {ticker_symbol} on {exp_date}')\n",
    "    plt.legend()\n",
    "    plt.grid(True)\n",
    "    plt.show()"
   ]
  }
 ],
 "metadata": {
  "kernelspec": {
   "display_name": "Python 3 (ipykernel)",
   "language": "python",
   "name": "python3"
  },
  "language_info": {
   "codemirror_mode": {
    "name": "ipython",
    "version": 3
   },
   "file_extension": ".py",
   "mimetype": "text/x-python",
   "name": "python",
   "nbconvert_exporter": "python",
   "pygments_lexer": "ipython3",
   "version": "3.12.7"
  }
 },
 "nbformat": 4,
 "nbformat_minor": 5
}
