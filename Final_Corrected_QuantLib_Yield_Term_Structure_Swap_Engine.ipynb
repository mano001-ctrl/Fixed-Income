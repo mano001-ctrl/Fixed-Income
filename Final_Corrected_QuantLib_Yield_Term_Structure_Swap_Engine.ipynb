{
 "cells": [
  {
   "cell_type": "markdown",
   "id": "bcc440c5",
   "metadata": {},
   "source": [
    "# Yield Term Structure and Discounting Swap Engine in QuantLib"
   ]
  },
  {
   "cell_type": "markdown",
   "id": "69529215",
   "metadata": {},
   "source": [
    "This notebook demonstrates how to set up a flat yield term structure and a swap engine using QuantLib. We create a `YieldTermStructureHandle` with a constant rate and use it within a `DiscountingSwapEngine` to calculate the net present value (NPV) of a vanilla swap."
   ]
  },
  {
   "cell_type": "code",
   "execution_count": 1,
   "id": "ede5510c",
   "metadata": {},
   "outputs": [],
   "source": [
    "\n",
    "# Import the QuantLib library\n",
    "import QuantLib as ql\n"
   ]
  },
  {
   "cell_type": "markdown",
   "id": "d2b070cc",
   "metadata": {},
   "source": [
    "## Step 1: Create the Yield Term Structure"
   ]
  },
  {
   "cell_type": "code",
   "execution_count": 2,
   "id": "80cb0dc9",
   "metadata": {},
   "outputs": [
    {
     "name": "stdout",
     "output_type": "stream",
     "text": [
      "Interest rate set for the yield curve: 0.5000125002085909\n"
     ]
    }
   ],
   "source": [
    "\n",
    "# Setting up a flat yield curve with a constant rate of 0.5%\n",
    "# '2' is the settlement days, meaning the yield curve will be effective in two days\n",
    "# ql.TARGET() represents the calendar (TARGET is the Trans-European Automated Real-time Gross Settlement Express Transfer System)\n",
    "# 0.5 is the interest rate (in decimal format)\n",
    "# ql.Actual360() is the day count convention\n",
    "\n",
    "yield_curve = ql.FlatForward(2, ql.TARGET(), 0.5, ql.Actual360())\n",
    "yts = ql.YieldTermStructureHandle(yield_curve)\n",
    "\n",
    "# Display the rate to understand how it's set\n",
    "print(\"Interest rate set for the yield curve:\", yield_curve.forwardRate(ql.Date(2, 1, 2025), ql.Date(2, 1, 2025), ql.Actual360(), ql.Simple).rate())\n"
   ]
  },
  {
   "cell_type": "markdown",
   "id": "3e994ec0",
   "metadata": {},
   "source": [
    "## Step 2: Set Up the Discounting Engine"
   ]
  },
  {
   "cell_type": "code",
   "execution_count": 3,
   "id": "7a4cf147",
   "metadata": {},
   "outputs": [
    {
     "name": "stdout",
     "output_type": "stream",
     "text": [
      "Discounting Swap Engine created with the yield curve.\n"
     ]
    }
   ],
   "source": [
    "\n",
    "# Set up the DiscountingSwapEngine using the yield term structure created above\n",
    "engine = ql.DiscountingSwapEngine(yts)\n",
    "\n",
    "# Output to show that the engine has been initialized with the yield term structure\n",
    "print(\"Discounting Swap Engine created with the yield curve.\")\n"
   ]
  },
  {
   "cell_type": "markdown",
   "id": "62fb9fec",
   "metadata": {},
   "source": [
    "## Step 3: Test the Engine with a Basic Swap"
   ]
  },
  {
   "cell_type": "code",
   "execution_count": 5,
   "id": "63792724",
   "metadata": {},
   "outputs": [
    {
     "name": "stdout",
     "output_type": "stream",
     "text": [
      "Swap NPV: 772183.1345742819\n"
     ]
    }
   ],
   "source": [
    "\n",
    "# Set up basic parameters for a vanilla swap\n",
    "notional = 1000000  # 1 million currency units\n",
    "fixed_rate = 0.05   # 5% fixed rate\n",
    "floating_spread = 0.0025  # 25 basis points floating spread\n",
    "\n",
    "# Define the swap schedule\n",
    "start_date = ql.Date(2, 1, 2025)\n",
    "maturity_date = ql.Date(2, 1, 2030)\n",
    "tenor = ql.Period(ql.Semiannual)\n",
    "\n",
    "# Fixed and floating legs\n",
    "fixed_schedule = ql.Schedule(start_date, maturity_date, tenor, ql.TARGET(), ql.ModifiedFollowing, ql.ModifiedFollowing, ql.DateGeneration.Forward, False)\n",
    "floating_schedule = fixed_schedule\n",
    "\n",
    "# Fixed leg\n",
    "fixed_leg = ql.FixedRateLeg(fixed_schedule, ql.Actual360(), [notional], [fixed_rate])\n",
    "\n",
    "# Floating leg setup with a spread, without using withSpreads\n",
    "index = ql.Euribor6M(yts)  # Define the floating index\n",
    "floating_leg = ql.IborLeg([notional], floating_schedule, index, ql.Actual360())\n",
    "\n",
    "# Manually add the spread to the floating cash flows\n",
    "floating_leg_cashflows = [cf.amount() + (floating_spread * notional * cf.date().serialNumber()) for cf in floating_leg]\n",
    "\n",
    "# Create the swap\n",
    "# Create the vanilla swap directly using schedules and parameters\n",
    "swap = ql.VanillaSwap(\n",
    "    ql.VanillaSwap.Payer,\n",
    "    notional,\n",
    "    fixed_schedule,  # fixed leg schedule\n",
    "    fixed_rate,      # fixed leg rate\n",
    "    ql.Actual360(),  # fixed leg day count convention\n",
    "    floating_schedule,  # floating leg schedule\n",
    "    index,           # floating index\n",
    "    floating_spread, # floating spread\n",
    "    ql.Actual360()   # floating leg day count convention\n",
    ")\n",
    "\n",
    "\n",
    "# Set the engine to the swap\n",
    "swap.setPricingEngine(engine)\n",
    "\n",
    "# Calculate and display the NPV of the swap\n",
    "npv = swap.NPV()\n",
    "print(\"Swap NPV:\", npv)\n"
   ]
  },
  {
   "cell_type": "markdown",
   "id": "2c5a0cd2",
   "metadata": {},
   "source": [
    "## Explanation of Key Components"
   ]
  },
  {
   "cell_type": "markdown",
   "id": "ce5a28dc",
   "metadata": {},
   "source": [
    "1. **`FlatForward`**: Creates a flat (constant) yield curve, assuming a single interest rate across all maturities.\n",
    "2. **`YieldTermStructureHandle`**: Provides flexible access to the yield curve, allowing dynamic updates.\n",
    "3. **`DiscountingSwapEngine`**: Utilizes the yield curve to discount cash flows, essential for pricing swaps.\n",
    "4. **Vanilla Swap**: In this example, the swap has both a fixed and floating leg, with cash flows discounted using the `DiscountingSwapEngine`."
   ]
  }
 ],
 "metadata": {
  "kernelspec": {
   "display_name": "Python 3 (ipykernel)",
   "language": "python",
   "name": "python3"
  },
  "language_info": {
   "codemirror_mode": {
    "name": "ipython",
    "version": 3
   },
   "file_extension": ".py",
   "mimetype": "text/x-python",
   "name": "python",
   "nbconvert_exporter": "python",
   "pygments_lexer": "ipython3",
   "version": "3.12.7"
  }
 },
 "nbformat": 4,
 "nbformat_minor": 5
}
