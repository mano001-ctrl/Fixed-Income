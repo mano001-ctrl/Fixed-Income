{
 "cells": [
  {
   "cell_type": "markdown",
   "id": "195977ef",
   "metadata": {},
   "source": [
    "\n",
    "## Bond Pricing Engines in QuantLib\n",
    "\n",
    "QuantLib provides different bond pricing engines to value various types of bonds, such as zero-coupon, fixed-rate, and callable bonds. Bond pricing engines determine the present value of the bond’s cash flows based on yield curves, discount factors, and interest rate models.\n",
    "\n",
    "In this notebook, we will cover:\n",
    "- Pricing a Zero Coupon Bond using a Discounting Bond Engine\n",
    "- Pricing a Fixed Rate Bond using a Discounting Bond Engine\n",
    "- Introduction to Callable Bonds and Pricing with Embedded Options\n",
    "    "
   ]
  },
  {
   "cell_type": "markdown",
   "id": "bff5a5fd",
   "metadata": {},
   "source": [
    "\n",
    "### Example 1: Zero Coupon Bond Pricing\n",
    "\n",
    "A zero-coupon bond pays no periodic interest; it is issued at a discount and matures at face value. To price it, we use the `DiscountingBondEngine`, which discounts the face value to present using a yield curve.\n",
    "    "
   ]
  },
  {
   "cell_type": "code",
   "execution_count": 1,
   "id": "a6a5a6ca",
   "metadata": {},
   "outputs": [
    {
     "data": {
      "text/plain": [
       "90.38326014618372"
      ]
     },
     "execution_count": 1,
     "metadata": {},
     "output_type": "execute_result"
    }
   ],
   "source": [
    "\n",
    "from QuantLib import *\n",
    "\n",
    "# Setup for a zero coupon bond\n",
    "maturity_date = Date(30, December, 2025)\n",
    "face_amount = 100  # Face value of the bond\n",
    "\n",
    "# Define a flat yield curve for discounting\n",
    "today = Date(30, December, 2023)\n",
    "Settings.instance().evaluationDate = today\n",
    "rate = 0.05  # 5% interest rate\n",
    "day_count = Actual360()\n",
    "flat_curve = YieldTermStructureHandle(FlatForward(today, rate, day_count))\n",
    "\n",
    "# Pricing Engine setup\n",
    "discount_engine = DiscountingBondEngine(flat_curve)\n",
    "\n",
    "# Zero coupon bond definition\n",
    "zero_coupon_bond = ZeroCouponBond(0, TARGET(), face_amount, maturity_date, Following, 100)\n",
    "zero_coupon_bond.setPricingEngine(discount_engine)\n",
    "\n",
    "# Display bond price\n",
    "zero_coupon_bond_price = zero_coupon_bond.cleanPrice()\n",
    "zero_coupon_bond_price\n",
    "    "
   ]
  },
  {
   "cell_type": "markdown",
   "id": "740ca3b5",
   "metadata": {},
   "source": [
    "\n",
    "### Example 2: Fixed Rate Bond Pricing\n",
    "\n",
    "A fixed-rate bond pays periodic interest (coupons) and returns the face amount at maturity. Here, we use the `DiscountingBondEngine` to price a fixed-rate bond by discounting each coupon and the face value to the present.\n",
    "    "
   ]
  },
  {
   "cell_type": "code",
   "execution_count": 2,
   "id": "48e0d35f",
   "metadata": {},
   "outputs": [
    {
     "data": {
      "text/plain": [
       "99.24956859289853"
      ]
     },
     "execution_count": 2,
     "metadata": {},
     "output_type": "execute_result"
    }
   ],
   "source": [
    "\n",
    "# Setup for a fixed rate bond\n",
    "issue_date = Date(30, December, 2023)\n",
    "maturity_date = Date(30, December, 2030)\n",
    "coupon_rate = 0.05  # 5% coupon rate\n",
    "coupons = [coupon_rate]\n",
    "\n",
    "# Fixed rate bond definition\n",
    "schedule = Schedule(issue_date, maturity_date, Period(Annual), TARGET(), Following, Following, DateGeneration.Backward, False)\n",
    "fixed_rate_bond = FixedRateBond(3, 100, schedule, coupons, Actual360(), Following, 100.0, issue_date)\n",
    "\n",
    "# Attach the discount engine\n",
    "fixed_rate_bond.setPricingEngine(discount_engine)\n",
    "\n",
    "# Display bond price\n",
    "fixed_rate_bond_price = fixed_rate_bond.cleanPrice()\n",
    "fixed_rate_bond_price\n",
    "    "
   ]
  },
  {
   "cell_type": "markdown",
   "id": "91e22188",
   "metadata": {},
   "source": [
    "\n",
    "### Example 3: Callable Bond Pricing (Overview)\n",
    "\n",
    "Callable bonds include an option for the issuer to redeem the bond before maturity. In QuantLib, we can price callable bonds using a pricing engine that accounts for embedded options. While this example does not include callable bond pricing due to complexity, it introduces the concept.\n",
    "    \n",
    "For callable bond pricing, you may use the `TreeCallableFixedRateBondEngine`, which relies on interest rate models like `HullWhite` for option-adjusted valuations.\n",
    "    "
   ]
  }
 ],
 "metadata": {
  "kernelspec": {
   "display_name": "Python 3 (ipykernel)",
   "language": "python",
   "name": "python3"
  },
  "language_info": {
   "codemirror_mode": {
    "name": "ipython",
    "version": 3
   },
   "file_extension": ".py",
   "mimetype": "text/x-python",
   "name": "python",
   "nbconvert_exporter": "python",
   "pygments_lexer": "ipython3",
   "version": "3.12.7"
  }
 },
 "nbformat": 4,
 "nbformat_minor": 5
}
