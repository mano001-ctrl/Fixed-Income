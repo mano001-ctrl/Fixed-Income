{
 "cells": [
  {
   "cell_type": "markdown",
   "id": "e9eb1789",
   "metadata": {},
   "source": [
    "\n",
    "## Understanding Currencies in QuantLib\n",
    "\n",
    "QuantLib provides a comprehensive library to handle various global currencies. Each currency is defined with its ISO code, symbol, and conversion properties. QuantLib supports a wide range of currencies, including major and minor currencies.\n",
    "    "
   ]
  },
  {
   "cell_type": "code",
   "execution_count": 1,
   "id": "56b571f3",
   "metadata": {},
   "outputs": [],
   "source": [
    "\n",
    "# Import the necessary modules from QuantLib\n",
    "from QuantLib import *\n",
    "    "
   ]
  },
  {
   "cell_type": "markdown",
   "id": "cc99b987",
   "metadata": {},
   "source": [
    "\n",
    "### Example 1: Currency Details\n",
    "\n",
    "In QuantLib, currencies such as the USD and EUR can be accessed directly. Each currency has properties like name, symbol, and ISO code, which can be retrieved as shown below.\n",
    "    "
   ]
  },
  {
   "cell_type": "code",
   "execution_count": 2,
   "id": "c6f36436",
   "metadata": {},
   "outputs": [
    {
     "data": {
      "text/plain": [
       "(('U.S. dollar', '$', 'USD'), ('European Euro', '', 'EUR'))"
      ]
     },
     "execution_count": 2,
     "metadata": {},
     "output_type": "execute_result"
    }
   ],
   "source": [
    "\n",
    "# Example 1: Defining a Currency\n",
    "usd = USDCurrency()  # Define the USD currency\n",
    "eur = EURCurrency()  # Define the EUR currency\n",
    "\n",
    "# Displaying currency details\n",
    "usd_details = (usd.name(), usd.symbol(), usd.code())\n",
    "eur_details = (eur.name(), eur.symbol(), eur.code())\n",
    "\n",
    "usd_details, eur_details\n",
    "    "
   ]
  },
  {
   "cell_type": "markdown",
   "id": "1ff1a25f",
   "metadata": {},
   "source": [
    "\n",
    "### Example 2: Simple Currency Conversion\n",
    "\n",
    "Currency conversions in QuantLib can be managed through external exchange rates. In this example, we manually define an exchange rate of 1 USD = 0.85 EUR for illustration purposes.\n",
    "    "
   ]
  },
  {
   "cell_type": "code",
   "execution_count": 3,
   "id": "f044d9bd",
   "metadata": {},
   "outputs": [
    {
     "data": {
      "text/plain": [
       "85.0"
      ]
     },
     "execution_count": 3,
     "metadata": {},
     "output_type": "execute_result"
    }
   ],
   "source": [
    "\n",
    "# Example 2: Currency Conversions with Exchange Rates\n",
    "usd_amount = 100  # 100 USD\n",
    "exchange_rate = 0.85  # 1 USD = 0.85 EUR (for illustration)\n",
    "\n",
    "# Calculate EUR equivalent\n",
    "eur_amount = usd_amount * exchange_rate\n",
    "eur_amount\n",
    "    "
   ]
  },
  {
   "cell_type": "markdown",
   "id": "de88d25d",
   "metadata": {},
   "source": [
    "\n",
    "### Example 3: Currency Triangulation\n",
    "\n",
    "For some currency pairs, an intermediary currency (often USD) is required for conversion. QuantLib can use triangulation in real-world conversions, allowing smoother transactions between currencies.\n",
    "    "
   ]
  },
  {
   "cell_type": "code",
   "execution_count": 4,
   "id": "38ab88d4",
   "metadata": {},
   "outputs": [
    {
     "data": {
      "text/plain": [
       "('Japanese yen', '\\udca5', 'JPY')"
      ]
     },
     "execution_count": 4,
     "metadata": {},
     "output_type": "execute_result"
    }
   ],
   "source": [
    "\n",
    "# Example 3: Using Currency Triangulation (for currencies that need an intermediary currency)\n",
    "jpy = JPYCurrency()  # Japanese Yen\n",
    "\n",
    "# Display Japanese Yen details\n",
    "jpy_details = (jpy.name(), jpy.symbol(), jpy.code())\n",
    "jpy_details\n",
    "    "
   ]
  },
  {
   "cell_type": "markdown",
   "id": "29891a0e",
   "metadata": {},
   "source": [
    "\n",
    "### Example 4: Iterating Over Major Currencies\n",
    "\n",
    "QuantLib provides predefined classes for major and minor global currencies, making it easy to use them in calculations. This example shows how you can iterate over a list of currencies to access their attributes.\n",
    "    "
   ]
  },
  {
   "cell_type": "code",
   "execution_count": 5,
   "id": "6dae464d",
   "metadata": {},
   "outputs": [
    {
     "data": {
      "text/plain": [
       "[('U.S. dollar', 'USD', '$'),\n",
       " ('European Euro', 'EUR', ''),\n",
       " ('British pound sterling', 'GBP', '\\udca3'),\n",
       " ('Japanese yen', 'JPY', '\\udca5'),\n",
       " ('Swiss franc', 'CHF', 'SwF')]"
      ]
     },
     "execution_count": 5,
     "metadata": {},
     "output_type": "execute_result"
    }
   ],
   "source": [
    "\n",
    "# Example 4: Working with Currency Lists and Iterating over Them\n",
    "major_currencies = [USDCurrency(), EURCurrency(), GBPCurrency(), JPYCurrency(), CHFCurrency()]\n",
    "\n",
    "# Listing major currencies\n",
    "currency_details = [(currency.name(), currency.code(), currency.symbol()) for currency in major_currencies]\n",
    "currency_details\n",
    "    "
   ]
  },
  {
   "cell_type": "markdown",
   "id": "a528a95a",
   "metadata": {},
   "source": [
    "\n",
    "### Summary\n",
    "\n",
    "QuantLib's currency module offers robust support for global currencies. You can define, retrieve details, convert between currencies, and even handle complex triangulation scenarios. This notebook covered the basics of handling currencies in QuantLib, illustrating how to access currency data and perform simple conversions.\n",
    "    "
   ]
  },
  {
   "cell_type": "markdown",
   "id": "b7d08ece",
   "metadata": {},
   "source": [
    "\n",
    "## Overview of Currency Classes and Constructors\n",
    "\n",
    "In QuantLib, each currency is represented by a specific class, such as `USDCurrency` for USD and `EURCurrency` for EUR. Each class has attributes like:\n",
    "- `name`: The full name of the currency.\n",
    "- `code`: The ISO 4217 currency code.\n",
    "- `symbol`: The currency symbol (e.g., `$` for USD, `€` for EUR).\n",
    "- `fractionalUnit`: The fractional unit of the currency (e.g., cents for USD).\n",
    "\n",
    "QuantLib uses these attributes to ensure accurate representation of each currency in calculations.\n",
    "    "
   ]
  },
  {
   "cell_type": "code",
   "execution_count": 8,
   "id": "421eb5e0",
   "metadata": {},
   "outputs": [
    {
     "data": {
      "text/plain": [
       "({'Name': 'U.S. dollar',\n",
       "  'Code': 'USD',\n",
       "  'Symbol': '$',\n",
       "  'Fractional Unit': '\\udca2'},\n",
       " {'Name': 'European Euro', 'Code': 'EUR', 'Symbol': '', 'Fractional Unit': ''})"
      ]
     },
     "execution_count": 8,
     "metadata": {},
     "output_type": "execute_result"
    }
   ],
   "source": [
    "# Example: Displaying various attributes of the USD and EUR currencies\n",
    "usd = USDCurrency()\n",
    "eur = EURCurrency()\n",
    "\n",
    "# Available details for USD and EUR currencies\n",
    "usd_details = {\n",
    "    \"Name\": usd.name(),\n",
    "    \"Code\": usd.code(),\n",
    "    \"Symbol\": usd.symbol(),\n",
    "    \"Fractional Unit\": usd.fractionSymbol() # Symbol of the fractional unit (e.g., \"¢\" for USD cents)\n",
    "    #\"Rounding\": usd.rounding().type()         # Rounding rule information\n",
    "}\n",
    "\n",
    "eur_details = {\n",
    "    \"Name\": eur.name(),\n",
    "    \"Code\": eur.code(),\n",
    "    \"Symbol\": eur.symbol(),\n",
    "    \"Fractional Unit\": eur.fractionSymbol() # Symbol of the fractional unit (e.g., \"¢\" for EUR cents)\n",
    "    #\"Rounding\": eur.rounding().type()         # Rounding rule information\n",
    "}\n",
    "\n",
    "usd_details, eur_details\n"
   ]
  },
  {
   "cell_type": "markdown",
   "id": "19905db0",
   "metadata": {},
   "source": [
    "\n",
    "### Currency Conversion and Arbitrage-Free Triangulation\n",
    "\n",
    "QuantLib provides robust support for currency conversion, especially in cases where a direct conversion is not available. In such cases, the library may use an intermediary currency (often USD) to perform triangulated conversions, ensuring arbitrage-free calculations.\n",
    "\n",
    "For example, when converting from EUR to JPY, QuantLib might first convert EUR to USD and then USD to JPY if no direct EUR/JPY rate is available. This process helps avoid arbitrage opportunities.\n",
    "    "
   ]
  },
  {
   "cell_type": "code",
   "execution_count": 9,
   "id": "ed9644a0",
   "metadata": {},
   "outputs": [
    {
     "data": {
      "text/plain": [
       "(1.2, 110.0, 132.0, 13200.0)"
      ]
     },
     "execution_count": 9,
     "metadata": {},
     "output_type": "execute_result"
    }
   ],
   "source": [
    "\n",
    "# Example: Triangulated conversion illustration (for conceptual purposes)\n",
    "eur_to_usd_rate = 1.2    # EUR to USD\n",
    "usd_to_jpy_rate = 110.0  # USD to JPY\n",
    "eur_to_jpy_rate = eur_to_usd_rate * usd_to_jpy_rate  # Implied EUR to JPY rate\n",
    "\n",
    "eur_amount = 100  # 100 EUR\n",
    "jpy_amount = eur_amount * eur_to_jpy_rate\n",
    "\n",
    "eur_to_usd_rate, usd_to_jpy_rate, eur_to_jpy_rate, jpy_amount\n",
    "    "
   ]
  },
  {
   "cell_type": "markdown",
   "id": "ecc78c0b",
   "metadata": {},
   "source": [
    "\n",
    "### Examples of Minor Currencies\n",
    "\n",
    "In addition to major global currencies, QuantLib supports several minor currencies, allowing detailed financial modeling for various markets. Let's explore some minor currencies and display their details.\n",
    "    "
   ]
  },
  {
   "cell_type": "code",
   "execution_count": 10,
   "id": "c22e61e2",
   "metadata": {},
   "outputs": [
    {
     "data": {
      "text/plain": [
       "[{'Name': 'Indian rupee', 'Code': 'INR', 'Symbol': 'Rs'},\n",
       " {'Name': 'South-African rand', 'Code': 'ZAR', 'Symbol': 'R'},\n",
       " {'Name': 'Brazilian real', 'Code': 'BRL', 'Symbol': 'R$'}]"
      ]
     },
     "execution_count": 10,
     "metadata": {},
     "output_type": "execute_result"
    }
   ],
   "source": [
    "\n",
    "# Define and display details for some minor currencies\n",
    "minor_currencies = [INRCurrency(), ZARCurrency(), BRLCurrency()]  # Indian Rupee, South African Rand, Brazilian Real\n",
    "\n",
    "minor_currency_details = [{\"Name\": currency.name(), \"Code\": currency.code(), \"Symbol\": currency.symbol()} for currency in minor_currencies]\n",
    "minor_currency_details\n",
    "    "
   ]
  },
  {
   "cell_type": "markdown",
   "id": "ebb8450d",
   "metadata": {},
   "source": [
    "\n",
    "### Using `Money` with Currencies in QuantLib\n",
    "\n",
    "QuantLib offers a `Money` class to represent amounts in specific currencies, supporting arithmetic operations with currencies. This can be useful when performing currency-specific calculations or conversions.\n",
    "    "
   ]
  },
  {
   "cell_type": "code",
   "execution_count": 12,
   "id": "9fd11890",
   "metadata": {},
   "outputs": [
    {
     "data": {
      "text/plain": [
       "<QuantLib.QuantLib.Money; proxy of <Swig Object of type 'Money *' at 0x000001EA2AC22EB0> >"
      ]
     },
     "execution_count": 12,
     "metadata": {},
     "output_type": "execute_result"
    }
   ],
   "source": [
    "from QuantLib import Money, USDCurrency, EURCurrency\n",
    "\n",
    "# Define Money amounts in USD and EUR\n",
    "usd_amount = Money(100, USDCurrency())  # 100 USD\n",
    "eur_amount = Money(85, EURCurrency())   # 85 EUR\n",
    "\n",
    "# Conversion rate (1 EUR = 1 / 0.85 USD for this illustration)\n",
    "exchange_rate = 1 / 0.85\n",
    "\n",
    "# Convert EUR to USD manually and create a Money object for the converted amount\n",
    "eur_in_usd = Money(eur_amount.value() * exchange_rate, USDCurrency())\n",
    "\n",
    "# Add converted EUR to USD amount\n",
    "total_in_usd = usd_amount + eur_in_usd\n",
    "total_in_usd\n"
   ]
  },
  {
   "cell_type": "markdown",
   "id": "696d7d6f",
   "metadata": {},
   "source": [
    "\n",
    "### Summary\n",
    "\n",
    "This extended notebook covers additional QuantLib functionalities with currencies, such as:\n",
    "- Accessing currency attributes like `fractionalUnit` and `fractionalPrecision`.\n",
    "- Performing arbitrage-free conversions with triangulation.\n",
    "- Working with minor currencies and using the `Money` class for currency-based calculations.\n",
    "QuantLib provides a flexible approach to managing global and minor currencies, supporting comprehensive modeling for various financial applications.\n",
    "    "
   ]
  }
 ],
 "metadata": {
  "kernelspec": {
   "display_name": "Python 3 (ipykernel)",
   "language": "python",
   "name": "python3"
  },
  "language_info": {
   "codemirror_mode": {
    "name": "ipython",
    "version": 3
   },
   "file_extension": ".py",
   "mimetype": "text/x-python",
   "name": "python",
   "nbconvert_exporter": "python",
   "pygments_lexer": "ipython3",
   "version": "3.12.7"
  }
 },
 "nbformat": 4,
 "nbformat_minor": 5
}
