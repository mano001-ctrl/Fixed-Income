{
 "cells": [
  {
   "cell_type": "code",
   "execution_count": 1,
   "id": "dad84d36-baad-4c3e-8e12-64c815b0e069",
   "metadata": {},
   "outputs": [],
   "source": [
    "import QuantLib as ql"
   ]
  },
  {
   "cell_type": "code",
   "execution_count": 2,
   "id": "6991c2ca-8af1-4c75-945e-ec362292570b",
   "metadata": {},
   "outputs": [],
   "source": [
    "yts = ql.RelinkableYieldTermStructureHandle()\n",
    "\n",
    "instruments = [\n",
    "    ('depo', '6M', 0.025),\n",
    "    ('swap', '1Y', 0.031),\n",
    "    ('swap', '2Y', 0.032),\n",
    "    ('swap', '3Y', 0.035)\n",
    "]\n",
    "\n",
    "helpers = ql.RateHelperVector()\n",
    "index = ql.Euribor6M(yts)\n",
    "for instrument, tenor, rate in instruments:\n",
    "    if instrument == 'depo':\n",
    "        helpers.append( ql.DepositRateHelper(rate, index) )\n",
    "    if instrument == 'fra':\n",
    "        monthsToStart = ql.Period(tenor).length()\n",
    "        helpers.append( ql.FraRateHelper(rate, monthsToStart, index) )\n",
    "    if instrument == 'swap':\n",
    "        swapIndex = ql.EuriborSwapIsdaFixA(ql.Period(tenor))\n",
    "        helpers.append( ql.SwapRateHelper(rate, swapIndex))\n",
    "curve = ql.PiecewiseLogCubicDiscount(2, ql.TARGET(), helpers, ql.Actual365Fixed())"
   ]
  },
  {
   "cell_type": "code",
   "execution_count": 3,
   "id": "6ec861e2-e5f6-4689-a61a-4dfe04988e82",
   "metadata": {},
   "outputs": [],
   "source": [
    "yts.linkTo(curve)\n",
    "engine = ql.DiscountingSwapEngine(yts)"
   ]
  },
  {
   "cell_type": "code",
   "execution_count": 4,
   "id": "30af5a3e-1377-45ab-847c-cf650edc38b3",
   "metadata": {},
   "outputs": [],
   "source": [
    "tenor = ql.Period('2y')\n",
    "fixedRate = 0.05\n",
    "forwardStart = ql.Period(\"2D\")\n",
    "\n",
    "swap = ql.MakeVanillaSwap(tenor, index, fixedRate, forwardStart, nominal=10e6, pricingEngine=engine)"
   ]
  },
  {
   "cell_type": "code",
   "execution_count": 5,
   "id": "eaec561d-cf2f-4cca-94be-8a8af5a2f90b",
   "metadata": {},
   "outputs": [
    {
     "name": "stdout",
     "output_type": "stream",
     "text": [
      "Fair swap rate: 3.204%\n",
      "Swap NPV: -343,142.754\n"
     ]
    }
   ],
   "source": [
    "fairRate = swap.fairRate()\n",
    "npv = swap.NPV()\n",
    "\n",
    "print(f\"Fair swap rate: {fairRate:.3%}\")\n",
    "print(f\"Swap NPV: {npv:,.3f}\")"
   ]
  },
  {
   "cell_type": "code",
   "execution_count": 6,
   "id": "bae9ccf3-048c-4ca4-8323-6370b749d635",
   "metadata": {},
   "outputs": [
    {
     "data": {
      "text/html": [
       "<div>\n",
       "<style scoped>\n",
       "    .dataframe tbody tr th:only-of-type {\n",
       "        vertical-align: middle;\n",
       "    }\n",
       "\n",
       "    .dataframe tbody tr th {\n",
       "        vertical-align: top;\n",
       "    }\n",
       "\n",
       "    .dataframe thead th {\n",
       "        text-align: right;\n",
       "    }\n",
       "</style>\n",
       "<table border=\"1\" class=\"dataframe\">\n",
       "  <thead>\n",
       "    <tr style=\"text-align: right;\">\n",
       "      <th></th>\n",
       "      <th>date</th>\n",
       "      <th>amount</th>\n",
       "    </tr>\n",
       "  </thead>\n",
       "  <tbody>\n",
       "    <tr>\n",
       "      <th>0</th>\n",
       "      <td>May 2nd, 2025</td>\n",
       "      <td>126,902.06</td>\n",
       "    </tr>\n",
       "    <tr>\n",
       "      <th>1</th>\n",
       "      <td>November 3rd, 2025</td>\n",
       "      <td>183,556.11</td>\n",
       "    </tr>\n",
       "    <tr>\n",
       "      <th>2</th>\n",
       "      <td>May 4th, 2026</td>\n",
       "      <td>163,923.74</td>\n",
       "    </tr>\n",
       "    <tr>\n",
       "      <th>3</th>\n",
       "      <td>November 2nd, 2026</td>\n",
       "      <td>162,672.58</td>\n",
       "    </tr>\n",
       "  </tbody>\n",
       "</table>\n",
       "</div>"
      ],
      "text/plain": [
       "                 date     amount\n",
       "0       May 2nd, 2025 126,902.06\n",
       "1  November 3rd, 2025 183,556.11\n",
       "2       May 4th, 2026 163,923.74\n",
       "3  November 2nd, 2026 162,672.58"
      ]
     },
     "metadata": {},
     "output_type": "display_data"
    }
   ],
   "source": [
    "import pandas as pd\n",
    "pd.options.display.float_format = \"{:,.2f}\".format\n",
    "\n",
    "cashflows = pd.DataFrame({\n",
    "    'date': cf.date(),\n",
    "    'amount': cf.amount()\n",
    "    } for cf in swap.leg(1))\n",
    "display(cashflows)"
   ]
  },
  {
   "cell_type": "code",
   "execution_count": 7,
   "id": "841cfa00-0810-486f-a328-3a8a0cfb56a3",
   "metadata": {},
   "outputs": [
    {
     "data": {
      "text/html": [
       "<div>\n",
       "<style scoped>\n",
       "    .dataframe tbody tr th:only-of-type {\n",
       "        vertical-align: middle;\n",
       "    }\n",
       "\n",
       "    .dataframe tbody tr th {\n",
       "        vertical-align: top;\n",
       "    }\n",
       "\n",
       "    .dataframe thead th {\n",
       "        text-align: right;\n",
       "    }\n",
       "</style>\n",
       "<table border=\"1\" class=\"dataframe\">\n",
       "  <thead>\n",
       "    <tr style=\"text-align: right;\">\n",
       "      <th></th>\n",
       "      <th>nominal</th>\n",
       "      <th>accrualStartDate</th>\n",
       "      <th>accrualEndDate</th>\n",
       "      <th>rate</th>\n",
       "      <th>amount</th>\n",
       "    </tr>\n",
       "  </thead>\n",
       "  <tbody>\n",
       "    <tr>\n",
       "      <th>0</th>\n",
       "      <td>10,000,000.00</td>\n",
       "      <td>2024-11-01</td>\n",
       "      <td>2025-05-02</td>\n",
       "      <td>0.03</td>\n",
       "      <td>126,902.06</td>\n",
       "    </tr>\n",
       "    <tr>\n",
       "      <th>1</th>\n",
       "      <td>10,000,000.00</td>\n",
       "      <td>2025-05-02</td>\n",
       "      <td>2025-11-03</td>\n",
       "      <td>0.04</td>\n",
       "      <td>183,556.11</td>\n",
       "    </tr>\n",
       "    <tr>\n",
       "      <th>2</th>\n",
       "      <td>10,000,000.00</td>\n",
       "      <td>2025-11-03</td>\n",
       "      <td>2026-05-04</td>\n",
       "      <td>0.03</td>\n",
       "      <td>163,923.74</td>\n",
       "    </tr>\n",
       "    <tr>\n",
       "      <th>3</th>\n",
       "      <td>10,000,000.00</td>\n",
       "      <td>2026-05-04</td>\n",
       "      <td>2026-11-02</td>\n",
       "      <td>0.03</td>\n",
       "      <td>162,672.58</td>\n",
       "    </tr>\n",
       "  </tbody>\n",
       "</table>\n",
       "</div>"
      ],
      "text/plain": [
       "        nominal accrualStartDate accrualEndDate  rate     amount\n",
       "0 10,000,000.00       2024-11-01     2025-05-02  0.03 126,902.06\n",
       "1 10,000,000.00       2025-05-02     2025-11-03  0.04 183,556.11\n",
       "2 10,000,000.00       2025-11-03     2026-05-04  0.03 163,923.74\n",
       "3 10,000,000.00       2026-05-04     2026-11-02  0.03 162,672.58"
      ]
     },
     "metadata": {},
     "output_type": "display_data"
    }
   ],
   "source": [
    "cashflows = pd.DataFrame({\n",
    "    'nominal': cf.nominal(),\n",
    "    'accrualStartDate': cf.accrualStartDate().ISO(),\n",
    "    'accrualEndDate': cf.accrualEndDate().ISO(),\n",
    "    'rate': cf.rate(),\n",
    "    'amount': cf.amount()\n",
    "    } for cf in map(ql.as_coupon, swap.leg(1)))\n",
    "display(cashflows)"
   ]
  },
  {
   "cell_type": "code",
   "execution_count": null,
   "id": "ffcb4992-0d01-46d4-aea0-4e750f84a29f",
   "metadata": {},
   "outputs": [],
   "source": []
  }
 ],
 "metadata": {
  "kernelspec": {
   "display_name": "Python 3 (ipykernel)",
   "language": "python",
   "name": "python3"
  },
  "language_info": {
   "codemirror_mode": {
    "name": "ipython",
    "version": 3
   },
   "file_extension": ".py",
   "mimetype": "text/x-python",
   "name": "python",
   "nbconvert_exporter": "python",
   "pygments_lexer": "ipython3",
   "version": "3.12.7"
  }
 },
 "nbformat": 4,
 "nbformat_minor": 5
}
