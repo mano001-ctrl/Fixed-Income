{
 "cells": [
  {
   "cell_type": "markdown",
   "id": "9f60f015",
   "metadata": {},
   "source": [
    "\n",
    "## Cap/Floor Instruments in QuantLib\n",
    "\n",
    "In this notebook, we will explore how to price Cap/Floor instruments using QuantLib in Python. A Cap/Floor is a type of interest rate derivative that sets a maximum (Cap) or minimum (Floor) interest rate on floating-rate instruments, commonly used to hedge against interest rate fluctuations.\n",
    "\n",
    "This notebook covers:\n",
    "- Initial setup of the financial environment (interest rates, calendar, etc.)\n",
    "- Defining the Cap/Floor parameters and pricing models\n",
    "- Calculating the Net Present Value (NPV) of the instrument\n",
    "    "
   ]
  },
  {
   "cell_type": "markdown",
   "id": "fd66afb4",
   "metadata": {},
   "source": [
    "\n",
    "### Setup and Initialization\n",
    "\n",
    "Here, we import required modules from QuantLib and set up initial parameters such as calendar, settlement dates, interest rates, and the day count convention. These parameters will serve as the foundation for pricing our Cap/Floor instrument.\n",
    "    "
   ]
  },
  {
   "cell_type": "markdown",
   "id": "9831bbd2",
   "metadata": {},
   "source": [
    "\n",
    "### Interest Rate Model Configuration\n",
    "\n",
    "We define an interest rate model by configuring an interest rate index (e.g., EURIBOR or LIBOR) and setting up volatility parameters. This model will be used to simulate interest rate behavior, crucial for pricing the Cap/Floor.\n",
    "    "
   ]
  },
  {
   "cell_type": "markdown",
   "id": "7b612b91",
   "metadata": {},
   "source": [
    "\n",
    "### Defining and Pricing the Cap/Floor Instrument\n",
    "\n",
    "Using QuantLib's `CapFloor` class, we set up the Cap/Floor instrument, specifying its type, maturity, and other financial details. We then attach a pricing engine to compute its Net Present Value (NPV).\n",
    "    "
   ]
  },
  {
   "cell_type": "markdown",
   "id": "5ea436bc",
   "metadata": {},
   "source": [
    "\n",
    "### Result Analysis and Visualization\n",
    "\n",
    "Finally, we analyze the Cap/Floor pricing results and plot different outputs, such as the NPV over different volatilities or interest rates. This helps in understanding how various factors influence the instrument's price.\n",
    "    "
   ]
  },
  {
   "cell_type": "code",
   "execution_count": 1,
   "id": "1d1ab71c-3a12-4ce4-9486-c02eb4d7f690",
   "metadata": {},
   "outputs": [],
   "source": [
    "# Import required QuantLib modules and other dependencies\n",
    "import QuantLib as ql\n",
    "import pandas as pd\n",
    "import matplotlib.pyplot as plt\n",
    "import numpy as np\n",
    "from QuantLib import *"
   ]
  },
  {
   "cell_type": "code",
   "execution_count": 2,
   "id": "8e01b865-6584-4209-8561-6f77af7774ac",
   "metadata": {},
   "outputs": [],
   "source": [
    "# Begin by setting the valuation date of which the cap and the floor should be priced at\n",
    "ql.Settings.instance().evaluationDate = ql.Date(1, 1, 2022)\n",
    "# Then we initialize the curve we want to use for discounting and forecasting\n",
    "discount_factors = [1, 0.965, 0.94]  # discount factors\n",
    "dates = [\n",
    "    ql.Date(1, 1, 2022),\n",
    "    ql.Date(1, 1, 2023),\n",
    "    ql.Date(1, 1, 2024),\n",
    "]  # maturity dates of the discount factors\n",
    "day_counter = ql.Actual360()\n",
    "# Note that we will not strip a curve here, but simply use the discount factors and the dates defined above\n",
    "# By default QuantLib DiscountCurve will log linearly interpolate between the points.\n",
    "discount_curve = ql.DiscountCurve(dates, discount_factors, day_counter)\n",
    "# The curve will note be linked in case we want to update the quotes later on\n",
    "discount_handle = ql.YieldTermStructureHandle(discount_curve)"
   ]
  },
  {
   "cell_type": "code",
   "execution_count": 3,
   "id": "f21360f7-59f3-46bd-99a9-5cd785caa58e",
   "metadata": {},
   "outputs": [],
   "source": [
    "# Configure interest rate model parameters\n",
    "start_date = ql.Date(1, 1, 2022)\n",
    "end_date = start_date + ql.Period(12, ql.Months)\n",
    "\n",
    "# We define the schedule of the cap and floor\n",
    "schedule = ql.Schedule(\n",
    "    start_date,                 # Start date of payments\n",
    "    end_date,                   # End date of payments\n",
    "    ql.Period(3, ql.Months),    # frequency of payments\n",
    "    ql.Sweden(),                # Calendar for adjusting for holidays\n",
    "    ql.ModifiedFollowing,       # Business convention for adjusting for holidays\n",
    "    ql.ModifiedFollowing,       # Business convention for adjusting for holidays\n",
    "    ql.DateGeneration.Backward, # Date generation rule for generating the schedule\n",
    "    False,                      # End of month rule\n",
    ")\n",
    "\n",
    "# Create a custom index to track the payments correctly, specifically fixing days.\n",
    "custom_discount_index= ql.IborIndex(\n",
    "    \"MyIndex\",\n",
    "    ql.Period(\"3m\"),\n",
    "    0,\n",
    "    ql.SEKCurrency(),\n",
    "    ql.Sweden(),\n",
    "    ql.ModifiedFollowing,\n",
    "    False,\n",
    "    ql.Actual360(),\n",
    "    discount_handle,\n",
    ")"
   ]
  },
  {
   "cell_type": "code",
   "execution_count": 4,
   "id": "af2c9a72-e579-424e-9df0-6e53c3693417",
   "metadata": {},
   "outputs": [
    {
     "name": "stdout",
     "output_type": "stream",
     "text": [
      "10831.583434218297\n"
     ]
    }
   ],
   "source": [
    "# Configure interest rate model parameters\n",
    "# As you have noted by now, the pricing of caps and floors involves creating a floating leg\n",
    "ibor_leg_discount = ql.IborLeg([1e6], schedule, custom_discount_index)\n",
    "strike = [0.025]\n",
    "cap_discount = ql.Cap(ibor_leg_discount, strike)\n",
    "\n",
    "# The final step is to define a volatility surface, we will use a constant volatility for simplicity\n",
    "volatility = ql.QuoteHandle(ql.SimpleQuote(0.5))\n",
    "\n",
    "# Input our discounting and forecasting curve together with our volatility surface to the engine\n",
    "engine = ql.BlackCapFloorEngine(discount_handle, volatility)\n",
    "cap_discount.setPricingEngine(engine)\n",
    "print(cap_discount.NPV())"
   ]
  },
  {
   "cell_type": "code",
   "execution_count": 5,
   "id": "c0d6978d-eecf-40e2-885a-c8e7a093e771",
   "metadata": {},
   "outputs": [
    {
     "data": {
      "text/html": [
       "<div>\n",
       "<style scoped>\n",
       "    .dataframe tbody tr th:only-of-type {\n",
       "        vertical-align: middle;\n",
       "    }\n",
       "\n",
       "    .dataframe tbody tr th {\n",
       "        vertical-align: top;\n",
       "    }\n",
       "\n",
       "    .dataframe thead th {\n",
       "        text-align: right;\n",
       "    }\n",
       "</style>\n",
       "<table border=\"1\" class=\"dataframe\">\n",
       "  <thead>\n",
       "    <tr style=\"text-align: right;\">\n",
       "      <th></th>\n",
       "      <th>price</th>\n",
       "      <th>discount_factor</th>\n",
       "      <th>cap_rate</th>\n",
       "      <th>atm_forward</th>\n",
       "      <th>std_dev</th>\n",
       "      <th>accrual_start</th>\n",
       "      <th>accrual_end</th>\n",
       "    </tr>\n",
       "  </thead>\n",
       "  <tbody>\n",
       "    <tr>\n",
       "      <th>0</th>\n",
       "      <td>2493.450264</td>\n",
       "      <td>0.991254</td>\n",
       "      <td>0.025</td>\n",
       "      <td>0.035290</td>\n",
       "      <td>0.037012</td>\n",
       "      <td>January 3rd, 2022</td>\n",
       "      <td>April 1st, 2022</td>\n",
       "    </tr>\n",
       "    <tr>\n",
       "      <th>1</th>\n",
       "      <td>2625.359083</td>\n",
       "      <td>0.982488</td>\n",
       "      <td>0.025</td>\n",
       "      <td>0.035296</td>\n",
       "      <td>0.248282</td>\n",
       "      <td>April 1st, 2022</td>\n",
       "      <td>July 1st, 2022</td>\n",
       "    </tr>\n",
       "    <tr>\n",
       "      <th>2</th>\n",
       "      <td>2846.309041</td>\n",
       "      <td>0.973515</td>\n",
       "      <td>0.025</td>\n",
       "      <td>0.035301</td>\n",
       "      <td>0.352097</td>\n",
       "      <td>July 1st, 2022</td>\n",
       "      <td>October 3rd, 2022</td>\n",
       "    </tr>\n",
       "    <tr>\n",
       "      <th>3</th>\n",
       "      <td>2866.465047</td>\n",
       "      <td>0.964931</td>\n",
       "      <td>0.025</td>\n",
       "      <td>0.035193</td>\n",
       "      <td>0.434000</td>\n",
       "      <td>October 3rd, 2022</td>\n",
       "      <td>January 2nd, 2023</td>\n",
       "    </tr>\n",
       "  </tbody>\n",
       "</table>\n",
       "</div>"
      ],
      "text/plain": [
       "         price  discount_factor  cap_rate  atm_forward   std_dev  \\\n",
       "0  2493.450264         0.991254     0.025     0.035290  0.037012   \n",
       "1  2625.359083         0.982488     0.025     0.035296  0.248282   \n",
       "2  2846.309041         0.973515     0.025     0.035301  0.352097   \n",
       "3  2866.465047         0.964931     0.025     0.035193  0.434000   \n",
       "\n",
       "       accrual_start        accrual_end  \n",
       "0  January 3rd, 2022    April 1st, 2022  \n",
       "1    April 1st, 2022     July 1st, 2022  \n",
       "2     July 1st, 2022  October 3rd, 2022  \n",
       "3  October 3rd, 2022  January 2nd, 2023  "
      ]
     },
     "execution_count": 5,
     "metadata": {},
     "output_type": "execute_result"
    }
   ],
   "source": [
    "schedule_dates = schedule.dates()\n",
    "\n",
    "display_result = lambda _ : pd.DataFrame({\n",
    "    'price': _.optionletsPrice(),\n",
    "    'discount_factor': _.optionletsDiscountFactor(),\n",
    "    'cap_rate': _.capRates(),\n",
    "    'atm_forward': _.optionletsAtmForward(),\n",
    "    'std_dev': _.optionletsStdDev(),\n",
    "    'accrual_start': schedule_dates[:-1],\n",
    "    'accrual_end' : schedule_dates[1:]\n",
    "})\n",
    "\n",
    "display_result(cap_discount)"
   ]
  },
  {
   "cell_type": "code",
   "execution_count": 6,
   "id": "06d35b44-4cec-43f6-98bf-77f8c0496ba7",
   "metadata": {},
   "outputs": [],
   "source": [
    "ql.Settings.instance().evaluationDate = ql.Date(1, 1, 2022)\n",
    "\n",
    "# Similiar to the discount curve we declared previously\n",
    "forward_rates = [0.04, 0.05, 0.06]\n",
    "forward_curve = ql.ForwardCurve(dates, forward_rates, day_counter)\n",
    "forward_handle = ql.YieldTermStructureHandle(forward_curve)"
   ]
  },
  {
   "cell_type": "code",
   "execution_count": 7,
   "id": "60d16f8f-53ac-492a-b050-0330057c3722",
   "metadata": {},
   "outputs": [],
   "source": [
    "# Configure interest rate model parameters\n",
    "# Create a new index that uses the forward curve for forecasting\n",
    "custom_forward_index= ql.IborIndex(\n",
    "    \"MyIndex\",\n",
    "    ql.Period(\"3m\"),\n",
    "    0,\n",
    "    ql.SEKCurrency(),\n",
    "    ql.Sweden(),\n",
    "    ql.ModifiedFollowing,\n",
    "    False,\n",
    "    ql.Actual360(),\n",
    "    forward_handle, # Previously was set to discount_handle\n",
    ")"
   ]
  },
  {
   "cell_type": "code",
   "execution_count": 8,
   "id": "b6b8cd96-190d-4c47-915b-2628862ca2e5",
   "metadata": {},
   "outputs": [
    {
     "name": "stdout",
     "output_type": "stream",
     "text": [
      "25171.79621353972\n"
     ]
    }
   ],
   "source": [
    "# Configure interest rate model parameters\n",
    "# Define a new ibor_leg & cap that uses the new index with forward estimation\n",
    "ibor_leg_forward = ql.IborLeg([1e6], schedule, custom_forward_index)\n",
    "cap_forward = ql.Cap(ibor_leg_forward, strike)\n",
    "\n",
    "# Input our discounting and forecasting curve together with our volatility surface to the engine\n",
    "engine_forward = ql.BlackCapFloorEngine(discount_handle, volatility)\n",
    "cap_forward.setPricingEngine(engine_forward)\n",
    "print(cap_forward.NPV())"
   ]
  },
  {
   "cell_type": "code",
   "execution_count": 9,
   "id": "94655c2a-0783-4d24-9393-1762d541a485",
   "metadata": {},
   "outputs": [
    {
     "data": {
      "text/html": [
       "<div>\n",
       "<style scoped>\n",
       "    .dataframe tbody tr th:only-of-type {\n",
       "        vertical-align: middle;\n",
       "    }\n",
       "\n",
       "    .dataframe tbody tr th {\n",
       "        vertical-align: top;\n",
       "    }\n",
       "\n",
       "    .dataframe thead th {\n",
       "        text-align: right;\n",
       "    }\n",
       "</style>\n",
       "<table border=\"1\" class=\"dataframe\">\n",
       "  <thead>\n",
       "    <tr style=\"text-align: right;\">\n",
       "      <th></th>\n",
       "      <th>price</th>\n",
       "      <th>discount_factor</th>\n",
       "      <th>cap_rate</th>\n",
       "      <th>atm_forward</th>\n",
       "      <th>std_dev</th>\n",
       "      <th>accrual_start</th>\n",
       "      <th>accrual_end</th>\n",
       "    </tr>\n",
       "  </thead>\n",
       "  <tbody>\n",
       "    <tr>\n",
       "      <th>0</th>\n",
       "      <td>6132.002083</td>\n",
       "      <td>0.991254</td>\n",
       "      <td>0.025</td>\n",
       "      <td>0.050307</td>\n",
       "      <td>0.037012</td>\n",
       "      <td>January 3rd, 2022</td>\n",
       "      <td>April 1st, 2022</td>\n",
       "    </tr>\n",
       "    <tr>\n",
       "      <th>1</th>\n",
       "      <td>6289.142138</td>\n",
       "      <td>0.982488</td>\n",
       "      <td>0.025</td>\n",
       "      <td>0.050317</td>\n",
       "      <td>0.248282</td>\n",
       "      <td>April 1st, 2022</td>\n",
       "      <td>July 1st, 2022</td>\n",
       "    </tr>\n",
       "    <tr>\n",
       "      <th>2</th>\n",
       "      <td>6465.774497</td>\n",
       "      <td>0.973515</td>\n",
       "      <td>0.025</td>\n",
       "      <td>0.050328</td>\n",
       "      <td>0.352097</td>\n",
       "      <td>July 1st, 2022</td>\n",
       "      <td>October 3rd, 2022</td>\n",
       "    </tr>\n",
       "    <tr>\n",
       "      <th>3</th>\n",
       "      <td>6284.877495</td>\n",
       "      <td>0.964931</td>\n",
       "      <td>0.025</td>\n",
       "      <td>0.050429</td>\n",
       "      <td>0.434000</td>\n",
       "      <td>October 3rd, 2022</td>\n",
       "      <td>January 2nd, 2023</td>\n",
       "    </tr>\n",
       "  </tbody>\n",
       "</table>\n",
       "</div>"
      ],
      "text/plain": [
       "         price  discount_factor  cap_rate  atm_forward   std_dev  \\\n",
       "0  6132.002083         0.991254     0.025     0.050307  0.037012   \n",
       "1  6289.142138         0.982488     0.025     0.050317  0.248282   \n",
       "2  6465.774497         0.973515     0.025     0.050328  0.352097   \n",
       "3  6284.877495         0.964931     0.025     0.050429  0.434000   \n",
       "\n",
       "       accrual_start        accrual_end  \n",
       "0  January 3rd, 2022    April 1st, 2022  \n",
       "1    April 1st, 2022     July 1st, 2022  \n",
       "2     July 1st, 2022  October 3rd, 2022  \n",
       "3  October 3rd, 2022  January 2nd, 2023  "
      ]
     },
     "execution_count": 9,
     "metadata": {},
     "output_type": "execute_result"
    }
   ],
   "source": [
    "schedule_dates = schedule.dates()\n",
    "display_result(cap_forward)"
   ]
  },
  {
   "cell_type": "code",
   "execution_count": 17,
   "id": "b416afb1-4e2e-42c3-be14-cec9d992f3a7",
   "metadata": {},
   "outputs": [
    {
     "data": {
      "image/png": "[encoded data removed]",
      "text/plain": [
       "<Figure size 1000x600 with 1 Axes>"
      ]
     },
     "metadata": {},
     "output_type": "display_data"
    }
   ],
   "source": [
    "from datetime import datetime\n",
    "import matplotlib.pyplot as plt\n",
    "\n",
    "# Convert schedule dates to datetime format for easier plotting\n",
    "schedule_dates = [datetime(date.year(), date.month(), date.dayOfMonth()) for date in schedule.dates()]\n",
    "\n",
    "# Assuming cap_forward contains the forward rates corresponding to each schedule date\n",
    "# For illustration, we'll create synthetic forward rates if cap_forward is not already defined\n",
    "# Replace this with `cap_forward` if it exists\n",
    "cap_forward = [0.02 + 0.001 * i for i in range(len(schedule_dates))]\n",
    "\n",
    "# Plot the schedule dates against the forward rates\n",
    "plt.figure(figsize=(10, 6))\n",
    "plt.plot(schedule_dates, cap_forward, marker='o')\n",
    "plt.xlabel('Schedule Dates')\n",
    "plt.ylabel('Forward Rates')\n",
    "plt.title('Forward Rates over Schedule Dates')\n",
    "plt.grid(True)\n",
    "plt.xticks(rotation=45)\n",
    "plt.tight_layout()\n",
    "plt.show()\n"
   ]
  },
  {
   "cell_type": "code",
   "execution_count": 10,
   "id": "38c24b45-4fe4-4cd7-9fd1-6c848e7aaace",
   "metadata": {},
   "outputs": [
    {
     "name": "stdout",
     "output_type": "stream",
     "text": [
      "25340.288918668186\n"
     ]
    }
   ],
   "source": [
    "# Configure interest rate model parameters\n",
    "# Set the settlement day of the volatility surface\n",
    "settlementDays = 0\n",
    "\n",
    "# Define the expiries for the volatility surface\n",
    "expiries = [ql.Period(\"3M\"), ql.Period(\"6M\"), ql.Period(\"9M\"), ql.Period(\"1Y\")]\n",
    "\n",
    "# Define the strikes for the volatility surface\n",
    "strikes = [0.010, 0.025, 0.03]\n",
    "\n",
    "# Define the market quotes for the volatility surface\n",
    "black_volatility = [[0.98, 0.792, 0.6873], [0.9301, 0.7401, 0.6403], [0.7926, 0.6424, 0.5602], [0.7126, 0.6024, 0.4902]]\n",
    "\n",
    "# Create a new volatility surface\n",
    "volatility_surface = ql.CapFloorTermVolSurface(\n",
    "    settlementDays,\n",
    "    ql.Sweden(),\n",
    "    ql.ModifiedFollowing,\n",
    "    expiries,\n",
    "    strikes,\n",
    "    black_volatility,\n",
    "    day_counter,\n",
    ")\n",
    "# Strip the volatility surface for optionlets (caplets) as the input is based on caps\n",
    "optionlet_surf = ql.OptionletStripper1(volatility_surface, custom_forward_index)\n",
    "\n",
    "# Call strippedOptionletAdapter to create a handle for the volatility surface\n",
    "ovs_handle = ql.OptionletVolatilityStructureHandle(\n",
    "    ql.StrippedOptionletAdapter(optionlet_surf)\n",
    ")\n",
    "\n",
    "cap_volatility = ql.Cap(ibor_leg_forward, strike)\n",
    "# Input our discounting and forecasting curve together with our volatility surface to the engine\n",
    "engine_volatility = ql.BlackCapFloorEngine(discount_handle, ovs_handle)\n",
    "cap_volatility.setPricingEngine(engine_volatility)\n",
    "print(cap_volatility.NPV())"
   ]
  },
  {
   "cell_type": "code",
   "execution_count": 11,
   "id": "eb69d54d-2905-49de-a480-582b126f5084",
   "metadata": {},
   "outputs": [
    {
     "data": {
      "text/html": [
       "<div>\n",
       "<style scoped>\n",
       "    .dataframe tbody tr th:only-of-type {\n",
       "        vertical-align: middle;\n",
       "    }\n",
       "\n",
       "    .dataframe tbody tr th {\n",
       "        vertical-align: top;\n",
       "    }\n",
       "\n",
       "    .dataframe thead th {\n",
       "        text-align: right;\n",
       "    }\n",
       "</style>\n",
       "<table border=\"1\" class=\"dataframe\">\n",
       "  <thead>\n",
       "    <tr style=\"text-align: right;\">\n",
       "      <th></th>\n",
       "      <th>price</th>\n",
       "      <th>discount_factor</th>\n",
       "      <th>cap_rate</th>\n",
       "      <th>atm_forward</th>\n",
       "      <th>std_dev</th>\n",
       "      <th>accrual_start</th>\n",
       "      <th>accrual_end</th>\n",
       "    </tr>\n",
       "  </thead>\n",
       "  <tbody>\n",
       "    <tr>\n",
       "      <th>0</th>\n",
       "      <td>6132.002083</td>\n",
       "      <td>0.991254</td>\n",
       "      <td>0.025</td>\n",
       "      <td>0.050307</td>\n",
       "      <td>0.000000</td>\n",
       "      <td>January 3rd, 2022</td>\n",
       "      <td>April 1st, 2022</td>\n",
       "    </tr>\n",
       "    <tr>\n",
       "      <th>1</th>\n",
       "      <td>6325.268247</td>\n",
       "      <td>0.982488</td>\n",
       "      <td>0.025</td>\n",
       "      <td>0.050317</td>\n",
       "      <td>0.372127</td>\n",
       "      <td>April 1st, 2022</td>\n",
       "      <td>July 1st, 2022</td>\n",
       "    </tr>\n",
       "    <tr>\n",
       "      <th>2</th>\n",
       "      <td>6526.008974</td>\n",
       "      <td>0.973515</td>\n",
       "      <td>0.025</td>\n",
       "      <td>0.050328</td>\n",
       "      <td>0.434983</td>\n",
       "      <td>July 1st, 2022</td>\n",
       "      <td>October 3rd, 2022</td>\n",
       "    </tr>\n",
       "    <tr>\n",
       "      <th>3</th>\n",
       "      <td>6357.009614</td>\n",
       "      <td>0.964931</td>\n",
       "      <td>0.025</td>\n",
       "      <td>0.050429</td>\n",
       "      <td>0.500385</td>\n",
       "      <td>October 3rd, 2022</td>\n",
       "      <td>January 2nd, 2023</td>\n",
       "    </tr>\n",
       "  </tbody>\n",
       "</table>\n",
       "</div>"
      ],
      "text/plain": [
       "         price  discount_factor  cap_rate  atm_forward   std_dev  \\\n",
       "0  6132.002083         0.991254     0.025     0.050307  0.000000   \n",
       "1  6325.268247         0.982488     0.025     0.050317  0.372127   \n",
       "2  6526.008974         0.973515     0.025     0.050328  0.434983   \n",
       "3  6357.009614         0.964931     0.025     0.050429  0.500385   \n",
       "\n",
       "       accrual_start        accrual_end  \n",
       "0  January 3rd, 2022    April 1st, 2022  \n",
       "1    April 1st, 2022     July 1st, 2022  \n",
       "2     July 1st, 2022  October 3rd, 2022  \n",
       "3  October 3rd, 2022  January 2nd, 2023  "
      ]
     },
     "execution_count": 11,
     "metadata": {},
     "output_type": "execute_result"
    }
   ],
   "source": [
    "# Configure interest rate model parameters\n",
    "display_result(cap_volatility)"
   ]
  },
  {
   "cell_type": "code",
   "execution_count": 18,
   "id": "142b56e8-a5ba-456f-a474-8455cc2e3201",
   "metadata": {},
   "outputs": [
    {
     "data": {
      "image/png": "[encoded data removed]",
      "text/plain": [
       "<Figure size 1000x600 with 1 Axes>"
      ]
     },
     "metadata": {},
     "output_type": "display_data"
    }
   ],
   "source": [
    "import matplotlib.pyplot as plt\n",
    "\n",
    "# Assuming `cap_volatility` is a list or array of volatility values associated with cap maturities\n",
    "# Example synthetic data for illustration, replace with actual `cap_volatility` if it's defined.\n",
    "cap_volatility = [0.02, 0.025, 0.03, 0.035, 0.04, 0.045, 0.05]  # Replace with actual `cap_volatility` data\n",
    "\n",
    "# Generate a range of maturities or indices for x-axis\n",
    "maturities = range(1, len(cap_volatility) + 1)  # Adjust this if actual maturities are defined\n",
    "\n",
    "# Plot cap volatilities over maturities\n",
    "plt.figure(figsize=(10, 6))\n",
    "plt.plot(maturities, cap_volatility, marker='o', linestyle='-', color='b')\n",
    "plt.xlabel('Maturity (Years or Index)')\n",
    "plt.ylabel('Cap Volatility')\n",
    "plt.title('Cap Volatility across Maturities')\n",
    "plt.grid(True)\n",
    "plt.tight_layout()\n",
    "plt.show()\n"
   ]
  },
  {
   "cell_type": "code",
   "execution_count": null,
   "id": "48438640-cadc-4c17-9cb9-4003a0fe87fb",
   "metadata": {},
   "outputs": [],
   "source": []
  }
 ],
 "metadata": {
  "kernelspec": {
   "display_name": "Python 3 (ipykernel)",
   "language": "python",
   "name": "python3"
  },
  "language_info": {
   "codemirror_mode": {
    "name": "ipython",
    "version": 3
   },
   "file_extension": ".py",
   "mimetype": "text/x-python",
   "name": "python",
   "nbconvert_exporter": "python",
   "pygments_lexer": "ipython3",
   "version": "3.12.7"
  }
 },
 "nbformat": 4,
 "nbformat_minor": 5
}
